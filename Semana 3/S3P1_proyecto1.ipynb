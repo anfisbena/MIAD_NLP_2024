{
 "cells": [
  {
   "cell_type": "markdown",
   "metadata": {},
   "source": [
    "![image info](https://raw.githubusercontent.com/davidzarruk/MIAD_ML_NLP_2023/main/images/banner_1.png)"
   ]
  },
  {
   "cell_type": "markdown",
   "metadata": {},
   "source": [
    "# Proyecto 1 - Predicción de precios de vehículos usados\n",
    "\n",
    "En este proyecto podrán poner en práctica sus conocimientos sobre modelos predictivos basados en árboles y ensambles, y sobre la disponibilización de modelos. Para su desasrrollo tengan en cuenta las instrucciones dadas en la \"Guía del proyecto 1: Predicción de precios de vehículos usados\".\n",
    "\n",
    "**Entrega**: La entrega del proyecto deberán realizarla durante la semana 4. Sin embargo, es importante que avancen en la semana 3 en el modelado del problema y en parte del informe, tal y como se les indicó en la guía.\n",
    "\n",
    "Para hacer la entrega, deberán adjuntar el informe autocontenido en PDF a la actividad de entrega del proyecto que encontrarán en la semana 4, y subir el archivo de predicciones a la [competencia de Kaggle](https://www.kaggle.com/t/b8be43cf89c540bfaf3831f2c8506614)."
   ]
  },
  {
   "cell_type": "markdown",
   "metadata": {},
   "source": [
    "## Datos para la predicción de precios de vehículos usados\n",
    "\n",
    "En este proyecto se usará el conjunto de datos de Car Listings de Kaggle, donde cada observación representa el precio de un automóvil teniendo en cuenta distintas variables como: año, marca, modelo, entre otras. El objetivo es predecir el precio del automóvil. Para más detalles puede visitar el siguiente enlace: [datos](https://www.kaggle.com/jpayne/852k-used-car-listings)."
   ]
  },
  {
   "cell_type": "markdown",
   "metadata": {},
   "source": [
    "## Ejemplo predicción conjunto de test para envío a Kaggle\n",
    "\n",
    "En esta sección encontrarán el formato en el que deben guardar los resultados de la predicción para que puedan subirlos a la competencia en Kaggle."
   ]
  },
  {
   "cell_type": "code",
   "execution_count": 2,
   "metadata": {},
   "outputs": [],
   "source": [
    "import warnings\n",
    "warnings.filterwarnings('ignore')"
   ]
  },
  {
   "cell_type": "code",
   "execution_count": 5,
   "metadata": {},
   "outputs": [
    {
     "ename": "ModuleNotFoundError",
     "evalue": "No module named 'cudf'",
     "output_type": "error",
     "traceback": [
      "\u001b[1;31m---------------------------------------------------------------------------\u001b[0m",
      "\u001b[1;31mModuleNotFoundError\u001b[0m                       Traceback (most recent call last)",
      "Cell \u001b[1;32mIn[5], line 2\u001b[0m\n\u001b[0;32m      1\u001b[0m \u001b[38;5;66;03m# Importación librerías\u001b[39;00m\n\u001b[1;32m----> 2\u001b[0m \u001b[38;5;28;01mimport\u001b[39;00m \u001b[38;5;21;01mcudf\u001b[39;00m\n\u001b[0;32m      3\u001b[0m \u001b[38;5;28;01mimport\u001b[39;00m \u001b[38;5;21;01mpandas\u001b[39;00m \u001b[38;5;28;01mas\u001b[39;00m \u001b[38;5;21;01mpd\u001b[39;00m\n\u001b[0;32m      4\u001b[0m \u001b[38;5;28;01mimport\u001b[39;00m \u001b[38;5;21;01mnumpy\u001b[39;00m \u001b[38;5;28;01mas\u001b[39;00m \u001b[38;5;21;01mnp\u001b[39;00m\n",
      "\u001b[1;31mModuleNotFoundError\u001b[0m: No module named 'cudf'"
     ]
    }
   ],
   "source": [
    "# Importación librerías\n",
    "import cudf\n",
    "import pandas as pd\n",
    "import numpy as np\n",
    "import missingno as msno\n",
    "import matplotlib.pyplot as plt\n",
    "from sklearn.linear_model import LinearRegression\n",
    "from sklearn.tree import DecisionTreeRegressor\n",
    "from sklearn.ensemble import RandomForestRegressor\n",
    "from sklearn.preprocessing import LabelEncoder\n",
    "from sklearn.model_selection import train_test_split,cross_val_score\n",
    "from sklearn.metrics import mean_squared_error\n",
    "from xgboost import XGBRegressor\n",
    "from sklearn.metrics import mean_squared_error, make_scorer, r2_score\n",
    "\n"
   ]
  },
  {
   "cell_type": "code",
   "execution_count": 4,
   "metadata": {},
   "outputs": [],
   "source": [
    "# Carga de datos de archivo .csv\n",
    "dataTraining = pd.read_csv('https://raw.githubusercontent.com/davidzarruk/MIAD_ML_NLP_2023/main/datasets/dataTrain_carListings.zip')\n",
    "dataTesting = pd.read_csv('https://raw.githubusercontent.com/davidzarruk/MIAD_ML_NLP_2023/main/datasets/dataTest_carListings.zip', index_col=0)"
   ]
  },
  {
   "cell_type": "code",
   "execution_count": 5,
   "metadata": {},
   "outputs": [
    {
     "data": {
      "text/html": [
       "<div>\n",
       "<style scoped>\n",
       "    .dataframe tbody tr th:only-of-type {\n",
       "        vertical-align: middle;\n",
       "    }\n",
       "\n",
       "    .dataframe tbody tr th {\n",
       "        vertical-align: top;\n",
       "    }\n",
       "\n",
       "    .dataframe thead th {\n",
       "        text-align: right;\n",
       "    }\n",
       "</style>\n",
       "<table border=\"1\" class=\"dataframe\">\n",
       "  <thead>\n",
       "    <tr style=\"text-align: right;\">\n",
       "      <th></th>\n",
       "      <th>Price</th>\n",
       "      <th>Year</th>\n",
       "      <th>Mileage</th>\n",
       "      <th>State</th>\n",
       "      <th>Make</th>\n",
       "      <th>Model</th>\n",
       "    </tr>\n",
       "  </thead>\n",
       "  <tbody>\n",
       "    <tr>\n",
       "      <th>0</th>\n",
       "      <td>34995</td>\n",
       "      <td>2017</td>\n",
       "      <td>9913</td>\n",
       "      <td>FL</td>\n",
       "      <td>Jeep</td>\n",
       "      <td>Wrangler</td>\n",
       "    </tr>\n",
       "    <tr>\n",
       "      <th>1</th>\n",
       "      <td>37895</td>\n",
       "      <td>2015</td>\n",
       "      <td>20578</td>\n",
       "      <td>OH</td>\n",
       "      <td>Chevrolet</td>\n",
       "      <td>Tahoe4WD</td>\n",
       "    </tr>\n",
       "    <tr>\n",
       "      <th>2</th>\n",
       "      <td>18430</td>\n",
       "      <td>2012</td>\n",
       "      <td>83716</td>\n",
       "      <td>TX</td>\n",
       "      <td>BMW</td>\n",
       "      <td>X5AWD</td>\n",
       "    </tr>\n",
       "    <tr>\n",
       "      <th>3</th>\n",
       "      <td>24681</td>\n",
       "      <td>2014</td>\n",
       "      <td>28729</td>\n",
       "      <td>OH</td>\n",
       "      <td>Cadillac</td>\n",
       "      <td>SRXLuxury</td>\n",
       "    </tr>\n",
       "    <tr>\n",
       "      <th>4</th>\n",
       "      <td>26998</td>\n",
       "      <td>2013</td>\n",
       "      <td>64032</td>\n",
       "      <td>CO</td>\n",
       "      <td>Jeep</td>\n",
       "      <td>Wrangler</td>\n",
       "    </tr>\n",
       "  </tbody>\n",
       "</table>\n",
       "</div>"
      ],
      "text/plain": [
       "   Price  Year  Mileage State       Make      Model\n",
       "0  34995  2017     9913    FL       Jeep   Wrangler\n",
       "1  37895  2015    20578    OH  Chevrolet   Tahoe4WD\n",
       "2  18430  2012    83716    TX        BMW      X5AWD\n",
       "3  24681  2014    28729    OH   Cadillac  SRXLuxury\n",
       "4  26998  2013    64032    CO       Jeep   Wrangler"
      ]
     },
     "execution_count": 5,
     "metadata": {},
     "output_type": "execute_result"
    }
   ],
   "source": [
    "# Visualización datos de entrenamiento\n",
    "dataTraining.head()"
   ]
  },
  {
   "cell_type": "code",
   "execution_count": 11,
   "metadata": {},
   "outputs": [
    {
     "data": {
      "text/html": [
       "<div>\n",
       "<style scoped>\n",
       "    .dataframe tbody tr th:only-of-type {\n",
       "        vertical-align: middle;\n",
       "    }\n",
       "\n",
       "    .dataframe tbody tr th {\n",
       "        vertical-align: top;\n",
       "    }\n",
       "\n",
       "    .dataframe thead th {\n",
       "        text-align: right;\n",
       "    }\n",
       "</style>\n",
       "<table border=\"1\" class=\"dataframe\">\n",
       "  <thead>\n",
       "    <tr style=\"text-align: right;\">\n",
       "      <th></th>\n",
       "      <th>Year</th>\n",
       "      <th>Mileage</th>\n",
       "      <th>State</th>\n",
       "      <th>Make</th>\n",
       "      <th>Model</th>\n",
       "    </tr>\n",
       "    <tr>\n",
       "      <th>ID</th>\n",
       "      <th></th>\n",
       "      <th></th>\n",
       "      <th></th>\n",
       "      <th></th>\n",
       "      <th></th>\n",
       "    </tr>\n",
       "  </thead>\n",
       "  <tbody>\n",
       "    <tr>\n",
       "      <th>0</th>\n",
       "      <td>2014</td>\n",
       "      <td>31909</td>\n",
       "      <td>MD</td>\n",
       "      <td>Nissan</td>\n",
       "      <td>MuranoAWD</td>\n",
       "    </tr>\n",
       "    <tr>\n",
       "      <th>1</th>\n",
       "      <td>2017</td>\n",
       "      <td>5362</td>\n",
       "      <td>FL</td>\n",
       "      <td>Jeep</td>\n",
       "      <td>Wrangler</td>\n",
       "    </tr>\n",
       "    <tr>\n",
       "      <th>2</th>\n",
       "      <td>2014</td>\n",
       "      <td>50300</td>\n",
       "      <td>OH</td>\n",
       "      <td>Ford</td>\n",
       "      <td>FlexLimited</td>\n",
       "    </tr>\n",
       "    <tr>\n",
       "      <th>3</th>\n",
       "      <td>2004</td>\n",
       "      <td>132160</td>\n",
       "      <td>WA</td>\n",
       "      <td>BMW</td>\n",
       "      <td>5</td>\n",
       "    </tr>\n",
       "    <tr>\n",
       "      <th>4</th>\n",
       "      <td>2015</td>\n",
       "      <td>25226</td>\n",
       "      <td>MA</td>\n",
       "      <td>Jeep</td>\n",
       "      <td>Grand</td>\n",
       "    </tr>\n",
       "  </tbody>\n",
       "</table>\n",
       "</div>"
      ],
      "text/plain": [
       "    Year  Mileage State    Make        Model\n",
       "ID                                          \n",
       "0   2014    31909    MD  Nissan    MuranoAWD\n",
       "1   2017     5362    FL    Jeep     Wrangler\n",
       "2   2014    50300    OH    Ford  FlexLimited\n",
       "3   2004   132160    WA     BMW            5\n",
       "4   2015    25226    MA    Jeep        Grand"
      ]
     },
     "execution_count": 11,
     "metadata": {},
     "output_type": "execute_result"
    }
   ],
   "source": [
    "# Visualización datos de test\n",
    "dataTesting.head()"
   ]
  },
  {
   "cell_type": "markdown",
   "metadata": {},
   "source": [
    "<h1>1. Revisión general de las variables</h1>"
   ]
  },
  {
   "cell_type": "markdown",
   "metadata": {},
   "source": [
    "<h2>Completitud</h2>\n",
    "\n",
    "Datos completos al 100%"
   ]
  },
  {
   "cell_type": "code",
   "execution_count": 7,
   "metadata": {},
   "outputs": [
    {
     "name": "stdout",
     "output_type": "stream",
     "text": [
      "Resultados:\n",
      "   Columna  Espacios en Blanco  NaN  % Faltantes\n",
      "0    Price                   0    0          0.0\n",
      "1     Year                   0    0          0.0\n",
      "2  Mileage                   0    0          0.0\n",
      "3    State                   0    0          0.0\n",
      "4     Make                   0    0          0.0\n",
      "5    Model                   0    0          0.0\n"
     ]
    },
    {
     "data": {
      "image/png": "[encoded data removed]",
      "text/plain": [
       "<Figure size 2500x1000 with 2 Axes>"
      ]
     },
     "metadata": {},
     "output_type": "display_data"
    }
   ],
   "source": [
    "# Completitud de los datos\n",
    "def analisis_datos(df):\n",
    "    columnas = []\n",
    "    espacios_blanco = []\n",
    "    nan_counts = []\n",
    "    porcentaje_faltantes = []\n",
    "\n",
    "    for columna in df.columns:\n",
    "        espacios_blanco.append(sum(df[columna].apply(lambda x: isinstance(x, str) and x.isspace())))\n",
    "        nan_counts.append(df[columna].isna().sum())\n",
    "        porcentaje_faltantes.append((df[columna].isna().sum() + espacios_blanco[-1]) / len(df) * 100)  # Calcula el porcentaje de datos faltantes\n",
    "        columnas.append(columna)\n",
    "\n",
    "    resultados_df = pd.DataFrame({\n",
    "        'Columna': columnas,\n",
    "        'Espacios en Blanco': espacios_blanco,\n",
    "        'NaN': nan_counts,\n",
    "        '% Faltantes': porcentaje_faltantes  # Agrega la columna de porcentaje de datos faltantes\n",
    "    })\n",
    "\n",
    "    print(\"Resultados:\")\n",
    "    print(resultados_df)\n",
    "\n",
    "    msno.matrix(df)\n",
    "\n",
    "analisis_datos(dataTraining)"
   ]
  },
  {
   "cell_type": "markdown",
   "metadata": {},
   "source": [
    "<h1>2. Descripcion de variables</h1>"
   ]
  },
  {
   "cell_type": "markdown",
   "metadata": {},
   "source": [
    "<h2>Variables Numericas</h2>"
   ]
  },
  {
   "cell_type": "code",
   "execution_count": 8,
   "metadata": {},
   "outputs": [
    {
     "data": {
      "text/html": [
       "<div>\n",
       "<style scoped>\n",
       "    .dataframe tbody tr th:only-of-type {\n",
       "        vertical-align: middle;\n",
       "    }\n",
       "\n",
       "    .dataframe tbody tr th {\n",
       "        vertical-align: top;\n",
       "    }\n",
       "\n",
       "    .dataframe thead th {\n",
       "        text-align: right;\n",
       "    }\n",
       "</style>\n",
       "<table border=\"1\" class=\"dataframe\">\n",
       "  <thead>\n",
       "    <tr style=\"text-align: right;\">\n",
       "      <th></th>\n",
       "      <th>Price</th>\n",
       "      <th>Year</th>\n",
       "      <th>Mileage</th>\n",
       "    </tr>\n",
       "  </thead>\n",
       "  <tbody>\n",
       "    <tr>\n",
       "      <th>count</th>\n",
       "      <td>400000.000000</td>\n",
       "      <td>400000.000000</td>\n",
       "      <td>4.000000e+05</td>\n",
       "    </tr>\n",
       "    <tr>\n",
       "      <th>mean</th>\n",
       "      <td>21146.919312</td>\n",
       "      <td>2013.198125</td>\n",
       "      <td>5.507296e+04</td>\n",
       "    </tr>\n",
       "    <tr>\n",
       "      <th>std</th>\n",
       "      <td>10753.664940</td>\n",
       "      <td>3.292326</td>\n",
       "      <td>4.088102e+04</td>\n",
       "    </tr>\n",
       "    <tr>\n",
       "      <th>min</th>\n",
       "      <td>5001.000000</td>\n",
       "      <td>1997.000000</td>\n",
       "      <td>5.000000e+00</td>\n",
       "    </tr>\n",
       "    <tr>\n",
       "      <th>25%</th>\n",
       "      <td>13499.000000</td>\n",
       "      <td>2012.000000</td>\n",
       "      <td>2.584100e+04</td>\n",
       "    </tr>\n",
       "    <tr>\n",
       "      <th>50%</th>\n",
       "      <td>18450.000000</td>\n",
       "      <td>2014.000000</td>\n",
       "      <td>4.295500e+04</td>\n",
       "    </tr>\n",
       "    <tr>\n",
       "      <th>75%</th>\n",
       "      <td>26999.000000</td>\n",
       "      <td>2016.000000</td>\n",
       "      <td>7.743300e+04</td>\n",
       "    </tr>\n",
       "    <tr>\n",
       "      <th>max</th>\n",
       "      <td>79999.000000</td>\n",
       "      <td>2018.000000</td>\n",
       "      <td>2.457832e+06</td>\n",
       "    </tr>\n",
       "  </tbody>\n",
       "</table>\n",
       "</div>"
      ],
      "text/plain": [
       "               Price           Year       Mileage\n",
       "count  400000.000000  400000.000000  4.000000e+05\n",
       "mean    21146.919312    2013.198125  5.507296e+04\n",
       "std     10753.664940       3.292326  4.088102e+04\n",
       "min      5001.000000    1997.000000  5.000000e+00\n",
       "25%     13499.000000    2012.000000  2.584100e+04\n",
       "50%     18450.000000    2014.000000  4.295500e+04\n",
       "75%     26999.000000    2016.000000  7.743300e+04\n",
       "max     79999.000000    2018.000000  2.457832e+06"
      ]
     },
     "execution_count": 8,
     "metadata": {},
     "output_type": "execute_result"
    }
   ],
   "source": [
    "dataTraining.describe()"
   ]
  },
  {
   "cell_type": "markdown",
   "metadata": {},
   "source": [
    "<h2>Variables categoricas</h2>\n",
    "\n",
    "En total se tienen 3 columnas\n",
    "\n",
    "<table>\n",
    "  <tr>\n",
    "    <th>Columnas</th>\n",
    "    <th># Valores Unicos</th>\n",
    "  </tr>\n",
    "  <tr>\n",
    "    <td>State</td>\n",
    "    <td>51</td>\n",
    "  </tr>\n",
    "  <tr>\n",
    "    <td>Make</td>\n",
    "    <td>38</td>\n",
    "  </tr>\n",
    "  <tr>\n",
    "    <td>Model</td>\n",
    "    <td>525</td>\n",
    "  </tr>\n",
    "</table>\n",
    "\n",
    "Hay un problema y es una alta cantidad de valores unicos.\n",
    "una propuesta puede ser armar modelos para cada marca ya que tiene un sentido logico"
   ]
  },
  {
   "cell_type": "code",
   "execution_count": 9,
   "metadata": {},
   "outputs": [
    {
     "name": "stdout",
     "output_type": "stream",
     "text": [
      "valores unicos de State:[' FL' ' OH' ' TX' ' CO' ' ME' ' WA' ' CT' ' CA' ' LA' ' NY' ' PA' ' SC'\n",
      " ' ND' ' NC' ' GA' ' AZ' ' TN' ' KY' ' NJ' ' UT' ' IA' ' AL' ' NE' ' IL'\n",
      " ' OK' ' MD' ' NV' ' WV' ' MI' ' VA' ' WI' ' MA' ' OR' ' IN' ' NM' ' MO'\n",
      " ' HI' ' KS' ' AR' ' MN' ' MS' ' MT' ' AK' ' VT' ' SD' ' NH' ' DE' ' ID'\n",
      " ' RI' ' WY' ' DC'] total variables: 51 \n",
      "\n",
      "valores unicos de Make:['Jeep' 'Chevrolet' 'BMW' 'Cadillac' 'Mercedes-Benz' 'Toyota' 'Buick'\n",
      " 'Dodge' 'Volkswagen' 'GMC' 'Ford' 'Hyundai' 'Mitsubishi' 'Honda' 'Nissan'\n",
      " 'Mazda' 'Volvo' 'Kia' 'Subaru' 'Chrysler' 'INFINITI' 'Land' 'Porsche'\n",
      " 'Lexus' 'MINI' 'Lincoln' 'Audi' 'Ram' 'Mercury' 'Tesla' 'FIAT' 'Acura'\n",
      " 'Scion' 'Pontiac' 'Jaguar' 'Bentley' 'Suzuki' 'Freightliner'] total variables: 38 \n",
      "\n",
      "valores unicos de Model:['Wrangler' 'Tahoe4WD' 'X5AWD' 'SRXLuxury' '3' 'C-ClassC300' 'CamryL'\n",
      " 'TacomaPreRunner' 'LaCrosse4dr' 'ChargerSXT' 'CamryLE' 'Jetta'\n",
      " 'AcadiaFWD' 'EscapeSE' 'SonataLimited' 'Santa' 'Outlander' 'CruzeSedan'\n",
      " 'Civic' 'CorollaL' '350Z2dr' 'EdgeSEL' 'F-1502WD' 'FocusSE'\n",
      " 'PatriotSport' 'Accord' 'MustangGT' 'FusionHybrid' 'ColoradoCrew'\n",
      " 'Wrangler4WD' 'CR-VEX-L' 'CTS' 'CherokeeLimited' 'Yukon' 'Elantra' 'New'\n",
      " 'CorollaLE' 'Canyon4WD' 'Golf' 'Sonata4dr' 'Elantra4dr' 'PatriotLatitude'\n",
      " 'Mazda35dr' 'Tacoma2WD' 'Corolla4dr' 'Silverado' 'TerrainFWD' 'EscapeFWD'\n",
      " 'Grand' 'RAV4FWD' 'Liberty4WD' 'FocusTitanium' 'DurangoAWD' 'S60T5'\n",
      " 'CivicLX' 'MuranoAWD' 'ForteEX' 'TraverseAWD' 'CamaroConvertible'\n",
      " 'Sportage2WD' 'Pathfinder4WD' 'Highlander4dr' 'WRXSTI' 'Ram' 'F-150XLT'\n",
      " 'SiennaXLE' 'LaCrosseFWD' 'RogueFWD' 'CamaroCoupe' 'JourneySXT'\n",
      " 'AccordEX-L' 'Escape4WD' 'OptimaEX' 'FusionSE' '5' 'F-150SuperCrew'\n",
      " '200Limited' 'Malibu' 'CompassSport' 'G37' 'CanyonCrew' 'Malibu1LT'\n",
      " 'MustangPremium' 'MustangBase' 'Sierra' 'FlexLimited' 'Tahoe2WD'\n",
      " 'Transit' 'Outback2.5i' 'TucsonLimited' 'Rover' 'CayenneAWD' 'MalibuLT'\n",
      " 'TucsonFWD' 'F-150FX2' 'Camaro2dr' 'Colorado4WD' 'SonataSE' 'ESES'\n",
      " 'EnclavePremium' 'CR-VEX' 'F-150STX' 'Impreza' 'EquinoxFWD' 'Cooper'\n",
      " 'Super' 'Passat4dr' '911' 'CivicEX' 'CamrySE' 'Highlander4WD'\n",
      " 'Corvette2dr' '200S' 'PilotLX' 'SorentoEX' 'RioLX' 'ExplorerXLT'\n",
      " 'CorvetteCoupe' 'EnclaveLeather' 'Avalanche4WD' 'TacomaBase' 'Versa5dr'\n",
      " 'MKXFWD' 'SL-ClassSL500' 'VeracruzFWD' 'CorollaS' 'PriusTwo' 'CR-V2WD'\n",
      " 'Lucerne4dr' '4Runner4dr' 'PilotTouring' 'CR-VLX' 'CompassLatitude'\n",
      " 'Altima4dr' 'OptimaLX' 'Focus5dr' 'Charger4dr' 'AcadiaAWD' 'JourneyFWD'\n",
      " '7' 'RX' 'MalibuLS' 'LSLS' 'SportageLX' 'Yukon4WD' 'SorentoLX'\n",
      " 'TiguanSEL' 'Camry4dr' 'F-1504WD' 'PriusBase' 'AccordLX' 'Q7quattro'\n",
      " 'ExplorerLimited' '4RunnerSR5' 'OdysseyEX-L' 'C-ClassC' 'CX-9FWD'\n",
      " 'JourneyAWD' 'Sorento2WD' 'F-250Lariat' 'Prius' 'TahoeLT' '25004WD'\n",
      " 'Escalade4dr' 'GTI4dr' '4RunnerRWD' 'FX35AWD' 'XC90T6' 'Taurus4dr'\n",
      " 'AvalonXLE' '300300S' 'G35' 'F-150Platinum' 'TerrainAWD' 'GXGX' 'MKXAWD'\n",
      " 'Town' 'CamryXLE' 'VeracruzAWD' 'FusionS' 'Challenger2dr' 'Tundra'\n",
      " 'Navigator4WD' 'Legacy3.6R' 'GS' 'E-ClassE350' 'Suburban2WD' 'A44dr'\n",
      " 'RegalTurbo' 'Outback3.6R' '4Runner4WD' 'Legacy2.5i' '1' 'Yukon2WD'\n",
      " 'Explorer' 'PilotEX-L' '200LX' 'M-ClassML350' 'RAV4XLE' 'WranglerSport'\n",
      " 'Model' 'FJ' 'Titan' 'Titan4WD' 'FlexSEL' 'OdysseyTouring' 'SorentoSX'\n",
      " 'RAV4Base' 'OdysseyEX' 'Explorer4WD' 'Mustang2dr' 'EdgeLimited'\n",
      " 'FusionSEL' 'Yukon4dr' 'Touareg4dr' 'Matrix5dr' 'CTCT' 'CherokeeSport'\n",
      " '6' 'Maxima4dr' 'Frontier4WD' 'PriusThree' 'F-350XL' '500Pop' 'RDXAWD'\n",
      " 'Tacoma4WD' 'Optima4dr' 'Q5quattro' 'X3xDrive28i' 'RDXFWD' 'X5xDrive35i'\n",
      " 'Malibu4dr' 'ExpeditionXLT' 'Ranger2WD' 'Patriot4WD' 'Quest4dr'\n",
      " 'TaurusSE' 'PathfinderS' 'Murano2WD' 'LS' 'SiennaLimited' 'ES' 'SiennaLE'\n",
      " 'F-150Lariat' 'Titan2WD' 'Durango2WD' 'Tahoe4dr' 'Focus4dr' 'YarisBase'\n",
      " 'TaurusLimited' 'RAV44WD' 'C-Class4dr' 'Soul+' 'TundraBase' 'Expedition'\n",
      " 'ImpalaLT' 'SedonaLX' 'Sequoia4WD' 'ElantraLimited' '15002WD'\n",
      " 'Suburban4WD' 'FiestaSE' '15004WD' 'TundraSR5' 'Camry' 'RAV4Limited'\n",
      " 'RangerSuperCab' 'MDXAWD' 'RAV4LE' 'ChallengerR/T' 'FlexSE' 'ForteLX'\n",
      " 'TraverseFWD' 'LibertySport' 'ISIS' 'Impala4dr' 'Tundra4WD' 'F-250XLT'\n",
      " 'RXRX' 'Armada2WD' 'Frontier' 'WranglerRubicon' 'EquinoxAWD' 'PilotEX'\n",
      " 'TiguanS' 'EscaladeAWD' 'DTS4dr' 'Pilot2WD' 'Express' 'PacificaLimited'\n",
      " 'CanyonExtended' 'MX5' 'EscapeS' 'IS' 'C-ClassC350' 'Compass4WD'\n",
      " 'SportageEX' 'Legacy' 'E-ClassE' 'Dakota4WD' '300300C' 'Forte'\n",
      " 'SportageAWD' 'TaurusSEL' 'Xterra4WD' 'GSGS' 'Explorer4dr' 'F-150XL'\n",
      " 'SportageSX' 'xB5dr' 'TundraLimited' 'CruzeLT' 'Wrangler2dr'\n",
      " 'HighlanderFWD' 'Sprinter' 'Highlander' 'Prius5dr' 'CX-9Grand' 'CTS4dr'\n",
      " 'Econoline' 'AccordEX' 'RAV4Sport' '35004WD' 'ChargerSE' 'OdysseyLX'\n",
      " 'TucsonAWD' 'CX-7FWD' 'AccordLX-S' 'Navigator4dr' 'EscapeXLT' 'TiguanSE'\n",
      " 'Cayman2dr' 'TaurusSHO' 'F-150FX4' 'Ranger4WD' 'OptimaSX' 'SequoiaSR5'\n",
      " 'G64dr' 'HighlanderLimited' 'ExplorerFWD' 'F-350King' 'PriusFive'\n",
      " 'Yaris4dr' 'PatriotLimited' 'Lancer4dr' 'HighlanderSE' 'CompassLimited'\n",
      " 'S2000Manual' 'F-250King' 'Forester2.5X' 'Fusion4dr' 'Frontier2WD'\n",
      " 'FocusST' 'Pathfinder2WD' 'Sentra4dr' 'XF4dr' 'F-250XL' 'PacificaTouring'\n",
      " 'MustangDeluxe' 'Caliber4dr' 'GTI2dr' 'Mazda34dr' 'FocusS' 'Sienna5dr'\n",
      " 'CR-V4WD' 'CX-9Touring' 'Mazda64dr' 'Forester4dr' '1500Tradesman'\n",
      " 'MDX4WD' 'Escalade' 'TL4dr' 'CX-9AWD' 'Canyon2WD' 'A64dr' 'A8'\n",
      " 'Armada4WD' 'Impreza2.0i' 'GX' 'QX564WD' 'CC4dr' 'MKZ4dr' 'Yaris'\n",
      " 'FitSport' 'Regal4dr' 'Tundra2WD' 'X3AWD' 'SonicSedan' 'Cobalt4dr'\n",
      " 'RidgelineRTL' 'CivicSi' 'AvalonLimited' 'XC90FWD' 'Outlander2WD'\n",
      " 'RAV44dr' 'ColoradoExtended' 'ExpeditionLimited' '3004dr' '200Touring'\n",
      " 'SC' 'X1xDrive28i' 'SonicHatch' 'GLI4dr' 'PilotSE' 'Savana'\n",
      " 'RegalPremium' 'CR-VSE' 'RegalGS' 'XC90AWD' 'EdgeSport' 'PriusFour'\n",
      " 'SiennaSE' '1500Laramie' '300Base' 'Pilot4WD' 'A34dr' 'HighlanderBase'\n",
      " 'Expedition4WD' 'STS4dr' 'SoulBase' 'Xterra2WD' 'CT' 'tC2dr' 'Tiguan2WD'\n",
      " 'CR-ZEX' 'MustangShelby' 'C702dr' 'WranglerX' 'WranglerSahara'\n",
      " 'DurangoSXT' 'Sequoia4dr' 'Outlander4WD' 'Expedition2WD' 'Navigator'\n",
      " '9112dr' 'Vibe4dr' 'F-150King' '300Limited' 'XC60T6' 'CivicEX-L'\n",
      " 'Avalanche2WD' 'F-350XLT' 'ExplorerBase' 'MuranoS' 'LXLX' 'EdgeSE'\n",
      " 'ImpalaLS' 'Land' 'E-ClassE320' 'Milan4dr' 'Boxster2dr' 'RAV4' 'Eos2dr'\n",
      " 'SedonaEX' 'xD5dr' 'Colorado2WD' 'Monte' 'Escape4dr' 'LX' 'FiestaS'\n",
      " 'F-350Lariat' 'Galant4dr' 'TT2dr' 'Xterra4dr' 'SequoiaLimited'\n",
      " '4RunnerLimited' 'Genesis' 'Suburban4dr' 'EnclaveConvenience'\n",
      " 'LaCrosseAWD' 'Versa4dr' 'Cobalt2dr' 'XC60FWD' 'F-150Limited' 'Dakota2WD'\n",
      " 'S44dr' '4Runner2WD' 'Sedona4dr' 'RidgelineSport' 'TSXAutomatic'\n",
      " 'ImprezaSport' 'SLK-ClassSLK350' 'Accent4dr' 'CorvetteConvertible'\n",
      " 'Avalon4dr' 'Passat' '25002WD' 'ExplorerEddie' 'LibertyLimited' 'CTS-V'\n",
      " '4RunnerTrail' 'Eclipse3dr' 'Azera4dr' 'TahoeLS' 'Continental' 'XJ4dr'\n",
      " 'ForteSX' 'SequoiaPlatinum' 'FocusSEL' 'Durango4dr' 'CamryBase' 'XC704dr'\n",
      " 'S804dr' 'Element4WD' 'YarisLE' 'WRXBase' 'TLAutomatic' 'AvalonTouring'\n",
      " 'XK2dr' 'PT' 'PathfinderSE' '300Touring' 'Navigator2WD' 'XC60AWD'\n",
      " 'EscapeLimited' 'WRXLimited' 'AccordSE' 'QX562WD' 'Escalade2WD'\n",
      " 'EscapeLImited' 'PriusOne' 'Element2WD' 'Excursion137\"' 'WRXPremium'\n",
      " 'RX-84dr'] total variables: 525 \n",
      "\n"
     ]
    }
   ],
   "source": [
    "col_numericas=['Year','Mileage']\n",
    "col_categoricas=['State','Make','Model']\n",
    "for col in col_categoricas:\n",
    "  print(f'valores unicos de {col}:{dataTraining[col].unique()}',f'total variables: {len(dataTraining[col].unique())}', '\\n')"
   ]
  },
  {
   "cell_type": "code",
   "execution_count": 34,
   "metadata": {},
   "outputs": [
    {
     "name": "stdout",
     "output_type": "stream",
     "text": [
      "Cantidad de muestras por año 2014: 17.18%\n",
      "Cantidad de muestras por año 2017: 11.14%\n",
      "Cantidad de muestras por año 2004: 0.85%\n",
      "Cantidad de muestras por año 2015: 17.72%\n",
      "Cantidad de muestras por año 2016: 13.91%\n",
      "Cantidad de muestras por año 2013: 8.17%\n",
      "Cantidad de muestras por año 2008: 3.39%\n",
      "Cantidad de muestras por año 2012: 7.88%\n",
      "Cantidad de muestras por año 2003: 0.46%\n",
      "Cantidad de muestras por año 2011: 5.88%\n",
      "Cantidad de muestras por año 2010: 4.15%\n",
      "Cantidad de muestras por año 2005: 1.27%\n",
      "Cantidad de muestras por año 2006: 1.79%\n",
      "Cantidad de muestras por año 2007: 2.80%\n",
      "Cantidad de muestras por año 2009: 2.63%\n",
      "Cantidad de muestras por año 2000: 0.12%\n",
      "Cantidad de muestras por año 2001: 0.19%\n",
      "Cantidad de muestras por año 2002: 0.28%\n",
      "Cantidad de muestras por año 1998: 0.03%\n",
      "Cantidad de muestras por año 1999: 0.07%\n",
      "Cantidad de muestras por año 2018: 0.08%\n",
      "Cantidad de muestras por año 1997: 0.02%\n"
     ]
    },
    {
     "data": {
      "image/png": "[encoded data removed]",
      "text/plain": [
       "<Figure size 1000x500 with 1 Axes>"
      ]
     },
     "metadata": {},
     "output_type": "display_data"
    }
   ],
   "source": [
    "#Cantidad de muestras por Marca\n",
    "dataTesting['Year'].value_counts().plot(kind='bar',figsize=(10,5))\n",
    "for val in dataTesting['Year'].unique():\n",
    "  print(f'Cantidad de muestras por año {val}: {len(dataTesting[dataTesting[\"Year\"]==val])/len(dataTesting)*100:.2f}%')"
   ]
  },
  {
   "cell_type": "code",
   "execution_count": 45,
   "metadata": {},
   "outputs": [
    {
     "data": {
      "image/png": "[encoded data removed]",
      "text/plain": [
       "<Figure size 640x480 with 2 Axes>"
      ]
     },
     "metadata": {},
     "output_type": "display_data"
    }
   ],
   "source": [
    "import statsmodels.api as sm\n",
    "corr = dataTraining_copy.set_index('Price').corr()\n",
    "sm.graphics.plot_corr(corr, xnames=list(corr.columns))\n",
    "plt.show()"
   ]
  },
  {
   "cell_type": "markdown",
   "metadata": {},
   "source": [
    "Debido a la naturaleza de los datos se tienen varias hipoptesis.\n",
    "- Usar un unico modelo entrenado para predecir para predecir el precio de cada vehiculo basado en el modelo con mejor rendimiento inicial sin hiperparametros definidos\n",
    "- Usar 1 modelo personalizado por cada item para predecir, segun su marca, modelo, año y kilometraje (si existen todas las variables) para predecir su precio basado en el modelo con mejor rendimiento inicial sin hiperparametros definidos\n",
    "\n",
    "Cada uno tiene sus retos y transoformaciones\n",
    "- Agrupacion de variables\n",
    "- Que modelo usar\n",
    "- Seleccion de hiperparametros"
   ]
  },
  {
   "cell_type": "markdown",
   "metadata": {},
   "source": [
    "<h1>3. Modelamiento</h1>"
   ]
  },
  {
   "cell_type": "markdown",
   "metadata": {},
   "source": [
    "<h2>Procesamiento de variables X y</h2>\n",
    "se separarán los datos en modelo XTrain y yTrain, ademas se codifican variables categoricas por medio de etiquetas"
   ]
  },
  {
   "cell_type": "code",
   "execution_count": 5,
   "metadata": {},
   "outputs": [],
   "source": [
    "numeric_cols = ['Price','Year', 'Mileage']\n",
    "categorical_cols = ['State','MakeModel']\n",
    "\n",
    "# Define una función para calcular el RMSE\n",
    "def rmse(y_true, y_pred):\n",
    "    return np.sqrt(mean_squared_error(y_true, y_pred))\n",
    "\n",
    "# Define una función para calcular el coeficiente de determinación (R^2)\n",
    "def r2(y_true, y_pred):\n",
    "    return r2_score(y_true, y_pred) "
   ]
  },
  {
   "cell_type": "code",
   "execution_count": 77,
   "metadata": {},
   "outputs": [
    {
     "data": {
      "text/plain": [
       "count       80.000000\n",
       "mean     36117.300000\n",
       "std       4655.258846\n",
       "min      27924.000000\n",
       "25%      32994.750000\n",
       "50%      34995.000000\n",
       "75%      39236.750000\n",
       "max      49997.000000\n",
       "Name: Price, dtype: float64"
      ]
     },
     "execution_count": 77,
     "metadata": {},
     "output_type": "execute_result"
    }
   ],
   "source": [
    "def encoder(categorical_cols):\n",
    "  np.random.seed(420)\n",
    "  label_encoders = {}\n",
    "  for col in categorical_cols:\n",
    "    label_encoders[col] = LabelEncoder()\n",
    "    dataTraining_copy[col] = label_encoders[col].fit_transform(dataTraining_copy[col])\n",
    "    dataTesting_copy[col] = label_encoders[col].transform(dataTesting_copy[col])\n",
    "\n",
    "#Instancio DF Training\n",
    "dataTraining_copy = dataTraining.copy()\n",
    "dataTraining_copy['MakeModel']=dataTraining_copy['Make']+dataTraining_copy['Model']\n",
    "dataTraining_copy=dataTraining_copy.drop(['Make','Model'],axis=1)\n",
    "\n",
    "#Instancio DF Testing\n",
    "dataTesting_copy=dataTesting.copy()\n",
    "dataTesting_copy['MakeModel']=dataTesting_copy['Make']+dataTesting_copy['Model']\n",
    "dataTesting_copy=dataTesting_copy.drop(['Make','Model','Year'],axis=1)\n",
    "\n",
    "\n",
    "#Traigo los valores 'Gama' de los datos de entrenamiento\n",
    "encoder(categorical_cols)\n",
    "\n",
    "\n",
    "X=dataTraining_copy.drop(['Price','Year'], axis=1)\n",
    "y=dataTraining_copy[['Price']].values.ravel()\n",
    "\n",
    "dataTraining_copy[(dataTraining_copy['Mileage'].between(9000,10000))&(dataTraining_copy['MakeModel']==290)]['Price'].describe()"
   ]
  },
  {
   "cell_type": "markdown",
   "metadata": {},
   "source": [
    "<h3>Prediccion con varios modelos basado en un todo general</h3>\n",
    "\n",
    "En este caso sabemos que Random Forest nos entrega el mejor resultado"
   ]
  },
  {
   "cell_type": "code",
   "execution_count": 70,
   "metadata": {},
   "outputs": [
    {
     "name": "stdout",
     "output_type": "stream",
     "text": [
      "Resultado linear: r2=0.23862983412035094 rmse:9383.159244358903\n",
      "Resultado decision_tree: r2=0.6933643795245459 rmse:5954.745991269062\n",
      "Resultado XGBoost: r2=0.76206431003551 rmse:5245.374292971184\n"
     ]
    },
    {
     "data": {
      "image/png": "[encoded data removed]",
      "text/plain": [
       "<Figure size 640x480 with 1 Axes>"
      ]
     },
     "metadata": {},
     "output_type": "display_data"
    }
   ],
   "source": [
    "#Primer modelo de regresión\n",
    "\n",
    "resultados={}\n",
    "\n",
    "models={\n",
    "    'linear':LinearRegression(),\n",
    "    'decision_tree':DecisionTreeRegressor(random_state=1),\n",
    "    # 'random_forest':RandomForestRegressor(random_state=1),\n",
    "    # 'gradient_boosting':GradientBoostingRegressor(random_state=1),\n",
    "    'XGBoost':XGBRegressor(seed=1),\n",
    "    # 'adaboost+DecisionTree':AdaBoostRegressor(random_state=1,estimator=DecisionTreeRegressor(random_state=1)),\n",
    "    # 'neural_network':MLPRegressor(random_state=1)\n",
    "}\n",
    "for model,function in models.items():\n",
    "    scores_r2 = cross_val_score(function, X, y, cv=5, scoring=make_scorer(r2))\n",
    "    scores_rmse = cross_val_score(function, X, y, cv=5, scoring=make_scorer(rmse))\n",
    "    resultados[model]=scores_rmse.mean()\n",
    "    print(f'Resultado {model}: r2={scores_r2.mean()} rmse:{scores_rmse.mean()}')\n",
    "\n",
    "plt.bar(resultados.keys(), resultados.values())\n",
    "plt.xlabel('Modelo')\n",
    "plt.ylabel('RMSE')\n",
    "plt.grid()\n",
    "plt.show() "
   ]
  },
  {
   "cell_type": "markdown",
   "metadata": {},
   "source": [
    "<h3>Estimador de hiper parametros</h3>"
   ]
  },
  {
   "cell_type": "code",
   "execution_count": 71,
   "metadata": {},
   "outputs": [],
   "source": [
    "def best_parameters_desissionTree(estimator_range, feature_range, depth_range):\n",
    "  estim_scores = []\n",
    "  feat_scores = []\n",
    "  depth_scores = []\n",
    "  max_params = {\n",
    "    'max_estimators': 0,\n",
    "    'max_estimator_v': 0,\n",
    "    'max_features': 0,\n",
    "    'max_features_v': 0,\n",
    "    'max_depth': 0,\n",
    "    'max_depth_v': 0\n",
    "  }\n",
    "\n",
    "  # Modelo inicial\n",
    "  clf = RandomForestRegressor(random_state=1)\n",
    "  # print('Modelo inicial:', pd.Series(cross_val_score(clf, X, y, cv=10)).describe())}\n",
    "  clf.fit(X, y)\n",
    "  print('Modelo inicial:', clf.score(X,y))\n",
    "  \n",
    "  # Prueba de parámetros\n",
    "  for max_depth in depth_range:\n",
    "    for max_features in feature_range:\n",
    "      for n_estimators in estimator_range:\n",
    "        print('Entrenando con:', max_depth, max_features,n_estimators)\n",
    "        clf = RandomForestRegressor(n_estimators=n_estimators, max_features=max_features, max_depth=max_depth, random_state=1, n_jobs=-1)\n",
    "        # cv_score = cross_val_score(clf, X, y, cv=5, scoring='accuracy').mean()\n",
    "        clf.fit(X, y)\n",
    "        cv_score=clf.score(X,y)\n",
    "\n",
    "        if cv_score > max_params['max_depth_v']:\n",
    "          max_params['max_depth_v'] = cv_score\n",
    "          max_params['max_depth'] = max_depth\n",
    "          max_params['max_features_v'] = cv_score\n",
    "          max_params['max_features'] = max_features\n",
    "          max_params['max_estimator_v'] = cv_score\n",
    "          max_params['max_estimators'] = n_estimators\n",
    "\n",
    "        estim_scores.append((n_estimators, cv_score))\n",
    "        feat_scores.append((max_features, cv_score))\n",
    "        depth_scores.append((max_depth, cv_score))\n",
    "\n",
    "  # Print the best params\n",
    "  print('Mejores parámetros:', max_params)\n",
    "\n",
    "  return estim_scores, feat_scores, depth_scores, max_params\n",
    "\n",
    "def best_parameters_XGBoost(estimator_range, depth_range, learning_rate_range, subsample_range, colsample_bytree_range,X,y):\n",
    "  estim_scores = []\n",
    "  depth_scores = []\n",
    "  learning_rate_scores = []\n",
    "  subsample_scores = []\n",
    "  colsample_bytree_scores = []\n",
    "\n",
    "  # Modelo inicial\n",
    "  clf = XGBRegressor(seed=1)\n",
    "  scores_r2 = cross_val_score(clf, X, y, cv=5, scoring=make_scorer(r2))\n",
    "  scores_rmse = cross_val_score(clf, X, y, cv=5, scoring=make_scorer(rmse))\n",
    "  print('Modelo inicial:', scores_r2.mean(), scores_rmse.mean())\n",
    "  max_params = {\n",
    "    'r2_score': 0,\n",
    "    'rmse':100000,\n",
    "    'max_estimators': 0,\n",
    "    'max_depth': 0,\n",
    "    'max_learning_rate': 0,\n",
    "    'max_subsample': 0,\n",
    "    'max_colsample_bytree': 0,\n",
    "  }\n",
    "  \n",
    "  # Prueba de parámetros\n",
    "  for max_depth in depth_range:\n",
    "    for n_estimators in estimator_range:\n",
    "      for learning_rate in learning_rate_range:\n",
    "        for subsample in subsample_range:\n",
    "          for colsample_bytree in colsample_bytree_range:\n",
    "            clf = XGBRegressor(n_estimators=n_estimators, \n",
    "              max_depth=max_depth, \n",
    "              learning_rate=learning_rate,\n",
    "              subsample=subsample,\n",
    "              colsample_bytree=colsample_bytree,\n",
    "              seed=1)\n",
    "            scores_r2 = cross_val_score(clf, X, y, cv=5, scoring=make_scorer(r2))\n",
    "            scores_rmse = cross_val_score(clf, X, y, cv=5, scoring=make_scorer(rmse))\n",
    "            print(f'Entrenando con: {max_depth,n_estimators,learning_rate,subsample,colsample_bytree}','\\n',f'Resultado: R2.{scores_r2.mean()}, RMSE:{scores_rmse.mean()}',end='\\r')\n",
    "\n",
    "            if scores_rmse.mean() < max_params['rmse']:\n",
    "              max_params['rmse'] = scores_rmse.mean()\n",
    "              max_params['r2_score'] = scores_r2.mean()\n",
    "              max_params['max_depth'] = max_depth\n",
    "              max_params['max_estimators'] = n_estimators\n",
    "              max_params['max_learning_rate'] = learning_rate\n",
    "              max_params['max_subsample'] = subsample\n",
    "              max_params['max_colsample_bytree'] = colsample_bytree\n",
    "\n",
    "            estim_scores.append((n_estimators, scores_rmse.mean()))\n",
    "            depth_scores.append((max_depth, scores_rmse.mean()))\n",
    "            learning_rate_scores.append((learning_rate, scores_rmse.mean()))\n",
    "            subsample_scores.append((subsample, scores_rmse.mean()))\n",
    "            colsample_bytree_scores.append((colsample_bytree, scores_rmse.mean()))\n",
    "\n",
    "  # Print the best params\n",
    "  print('Mejores parámetros:', max_params)\n",
    "\n",
    "  return max_params\n"
   ]
  },
  {
   "cell_type": "markdown",
   "metadata": {},
   "source": [
    "<h3>Modelo Hiperparametros XGBoost Con el modelo completo</h3>"
   ]
  },
  {
   "cell_type": "code",
   "execution_count": 72,
   "metadata": {},
   "outputs": [
    {
     "name": "stdout",
     "output_type": "stream",
     "text": [
      "Modelo inicial: 0.76206431003551 5245.374292971184\n",
      "Entrenando con:  5 2000 0.01 1 0.5 \n",
      "Entrenando con:  5 2000 0.1 1 0.5 7.670008461752\n",
      "Entrenando con:  5 2000 1 1 0.5 902.572419661497\n",
      "Entrenando con:  5 2100 0.01 1 0.5 .600276611543\n",
      "Entrenando con:  5 2100 0.1 1 0.5 8.183138347464\n",
      "Entrenando con:  5 2100 1 1 0.5 902.576977158522\n",
      "Entrenando con:  5 2200 0.01 1 0.5 .600276910748\n",
      "Entrenando con:  5 2200 0.1 1 0.5 1.313917484948\n",
      "Entrenando con:  5 2200 1 1 0.5 902.580338872018\n",
      "Entrenando con:  5 2300 0.01 1 0.5 .600275648629\n",
      "Entrenando con:  5 2300 0.1 1 0.5 6.661411701209\n",
      "Entrenando con:  5 2300 1 1 0.5 2.580612922499\n",
      "Entrenando con:  5 2400 0.01 1 0.5 .600273703645\n",
      "Entrenando con:  5 2400 0.1 1 0.5 1.856996127166\n",
      "Entrenando con:  5 2400 1 1 0.5 902.582206280041\n",
      "Entrenando con:  5 2500 0.01 1 0.5 .600274088774\n",
      "Entrenando con:  5 2500 0.1 1 0.5 7.688728132777\n",
      "Entrenando con:  5 2500 1 1 0.5 902.583335013354\n",
      "Entrenando con:  5 2600 0.01 1 0.5 .6002720304095\n",
      "Entrenando con:  5 2600 0.1 1 0.5 5.686896753975\n",
      "Entrenando con:  5 2600 1 1 0.5 902.5846842754645\n",
      "Entrenando con:  5 2700 0.01 1 0.5 .600273166585\n",
      "Entrenando con:  5 2700 0.1 1 0.5 4.498690651769\n",
      "Entrenando con:  5 2700 1 1 0.5 902.587982706315\n",
      "Entrenando con:  5 2800 0.01 1 0.5 .600272664796\n",
      "Entrenando con:  5 2800 0.1 1 0.5 5.240806428459\n",
      "Entrenando con:  5 2800 1 1 0.5 902.590907112072\n",
      "Entrenando con:  5 2900 0.01 1 0.5 600273013358\n",
      "Entrenando con:  5 2900 0.1 1 0.5 3.830986992163\n",
      "Entrenando con:  5 2900 1 1 0.5 902.591796919923\n",
      "Entrenando con:  8 2000 0.01 1 0.5 .600268796679\n",
      "Entrenando con:  8 2000 0.1 1 0.5 1.211825876028\n",
      "Entrenando con:  8 2000 1 1 0.5 902.601934104049\n",
      "Entrenando con:  8 2100 0.01 1 0.5 .60033705706\n",
      "Entrenando con:  8 2100 0.1 1 0.5 0.105796755013\n",
      "Entrenando con:  8 2100 1 1 0.5 902.602770679825\n",
      "Entrenando con:  8 2200 0.01 1 0.5 .600339007688\n",
      "Entrenando con:  8 2200 0.1 1 0.5 9.173421152633\n",
      "Entrenando con:  8 2200 1 1 0.5 902.60358005454\n",
      "Entrenando con:  8 2300 0.01 1 0.5 .600337611298\n",
      "Entrenando con:  8 2300 0.1 1 0.5 404968767837\n",
      "Entrenando con:  8 2300 1 1 0.5 902.6040833374645\n",
      "Entrenando con:  8 2400 0.01 1 0.5 .600333192954\n",
      "Entrenando con:  8 2400 0.1 1 0.5 7.710635026895\n",
      "Entrenando con:  8 2400 1 1 0.5 902.604568407138\n",
      "Entrenando con:  8 2500 0.01 1 0.5 .6003351525505\n",
      "Entrenando con:  8 2500 0.1 1 0.5 7.132838433945\n",
      "Entrenando con:  8 2500 1 1 0.5 902.604810317814\n",
      "Entrenando con:  8 2600 0.01 1 0.5 .600331233712\n",
      "Entrenando con:  8 2600 0.1 1 0.5 6.673092381621\n",
      "Entrenando con:  8 2600 1 1 0.5 902.605086156854\n",
      "Entrenando con:  8 2700 0.01 1 0.5 .600335827376\n",
      "Entrenando con:  8 2700 0.1 1 0.5 6.269272505278\n",
      "Entrenando con:  8 2700 1 1 0.5 902.605250439092\n",
      "Entrenando con:  8 2800 0.01 1 0.5 60033571908\n",
      "Entrenando con:  8 2800 0.1 1 0.5 5.8881474452255\n",
      "Entrenando con:  8 2800 1 1 0.5 902.60532295781\n",
      "Entrenando con:  8 2900 0.01 1 0.5 .600337590154\n",
      "Entrenando con:  8 2900 0.1 1 0.5 5.455988328671\n",
      "Entrenando con:  8 2900 1 1 0.5 902.6053223638055\n",
      "Mejores parámetros: {'r2_score': 0.6987125898370827, 'rmse': 5902.572419661497, 'max_estimators': 2000, 'max_depth': 5, 'max_learning_rate': 0.1, 'max_subsample': 1, 'max_colsample_bytree': 0.5}\n"
     ]
    }
   ],
   "source": [
    "depth_range = [5,8]\n",
    "estimator_range = range(2000,3000, 100)\n",
    "learning_rate_range = [0.01,0.1,1]\n",
    "subsample_range = [1]\n",
    "colsample_bytree_range = [0.5]\n",
    "\n",
    "max_params = best_parameters_XGBoost(estimator_range, depth_range, learning_rate_range, subsample_range, colsample_bytree_range,X,y)"
   ]
  },
  {
   "cell_type": "markdown",
   "metadata": {},
   "source": [
    "<h3>Prediccion con XGBoost basado en un Marca</h3>\n",
    "\n",
    "Debido a que hay amplia informacion, se hizo una segregacion de la data a modelar basados en marca, modelo, estado y kilometraje, se entrena un modelo XGBoost y uno a uno se muestran los resultados. Para el ejemplo dado, se ve un resultado "
   ]
  },
  {
   "cell_type": "code",
   "execution_count": 132,
   "metadata": {},
   "outputs": [
    {
     "name": "stdout",
     "output_type": "stream",
     "text": [
      "{'modelo_1': 64574, 'modelo_2': 32015, 'modelo_3': 3335, 'modelo_4': 76}\n",
      ">_> (100% papa)\n"
     ]
    }
   ],
   "source": [
    "categorical_cols = ['State','MakeModel']\n",
    "\n",
    "def encoder_marca(categorical_cols,train,test):\n",
    "    np.random.seed(420)\n",
    "    label_encoders = {}\n",
    "    for col in categorical_cols:\n",
    "        label_encoders[col] = LabelEncoder()\n",
    "        train[col] = label_encoders[col].fit_transform(train[col])\n",
    "        test[col] = label_encoders[col].transform(test[col])\n",
    "\n",
    "modelo={\n",
    "    'modelo_1':0,\n",
    "    'modelo_2':0,\n",
    "    'modelo_3':0,\n",
    "    'modelo_4':0\n",
    "}\n",
    "\n",
    "#____________ORDENA AGRUPA VARIABLES EN DATASET____________\n",
    "dataTraining_marca = dataTraining.copy()\n",
    "dataTraining_marca['MakeModel']=dataTraining_marca['Make']+'_'+dataTraining_marca['Model']\n",
    "dataTraining_marca=dataTraining_marca.drop(['Make','Model'],axis=1)\n",
    "dataTesting_marca = dataTesting.copy()\n",
    "dataTesting_marca['MakeModel']=dataTesting_marca['Make']+'_'+dataTesting_marca['Model']\n",
    "dataTesting_marca=dataTesting_marca.drop(['Make','Model'],axis=1)\n",
    "dataTesting_marca['Price']=0\n",
    "dataTesting_marca\n",
    "encoder_marca(categorical_cols,dataTraining_marca,dataTesting_marca)\n",
    "pricing_results=[]\n",
    "resultados={}\n",
    "\n",
    "#____________Itera para encontrar valores similares____________\n",
    "for row in dataTesting_marca.iterrows():\n",
    "#Encuentro datos similares\n",
    "    similares=dataTraining_marca[\n",
    "        (dataTraining_marca.MakeModel==row[1].MakeModel)&\n",
    "        (dataTraining_marca.Year.between(row[1]['Year']-1,row[1]['Year']))&\n",
    "        (dataTraining_marca.State==row[1].State)&\n",
    "        (dataTraining_marca.Mileage.between(row[1].Mileage-3000,row[1].Mileage+3000))   \n",
    "    ].sort_values(by='Mileage')\n",
    "    if(similares.shape[0]==0):\n",
    "        similares=dataTraining_marca[\n",
    "            (dataTraining_marca.MakeModel==row[1].MakeModel)&\n",
    "            (dataTraining_marca.Year.between(row[1]['Year']-1,row[1]['Year']))&\n",
    "            (dataTraining_marca.Mileage.between(row[1].Mileage-3000,row[1].Mileage+3000)) \n",
    "        ].sort_values(by='Mileage')\n",
    "        if(similares.shape[0]==0):\n",
    "            similares=dataTraining_marca[\n",
    "                (dataTraining_marca.MakeModel==row[1].MakeModel)&\n",
    "                (dataTraining_marca.Year==row[1].Year)\n",
    "            ].sort_values(by='Mileage')\n",
    "            if(similares.shape[0]==0):\n",
    "                similares=dataTraining_marca[(dataTraining_marca.MakeModel==row[1].MakeModel)].sort_values(by='Mileage')\n",
    "                modelo['modelo_4']+=1\n",
    "            else:    \n",
    "                modelo['modelo_3']+=1\n",
    "        else:\n",
    "            modelo['modelo_2']+=1\n",
    "    else:\n",
    "        modelo['modelo_1']+=1\n",
    "\n",
    "#____________Normaliza datos atipicos por medio de Media acotada si encuentra mas de 1 valor____________\n",
    "\n",
    "#Modelo\n",
    "    X_similares=similares.drop(['Price'], axis=1)\n",
    "    y_similares=similares[['Price']].values.ravel()\n",
    "\n",
    "\n",
    "#MODELO XGBOOST\n",
    "    model = XGBRegressor(n_estimators=2000, \n",
    "    max_depth=5, \n",
    "    learning_rate=0.1,\n",
    "    subsample=1,\n",
    "    colsample_bytree=0.5,\n",
    "    seed=1\n",
    ")\n",
    "    model.fit(X_similares, y_similares)\n",
    "\n",
    "\n",
    "#Predigo con modelo\n",
    "    pred=model.predict([row[1].drop(['Price'])])\n",
    "    pricing_results.append(np.round(pred[0]).astype(int))\n",
    "    print(f'trabajando: {round((row[0]/100000)*100,2)}%', end='\\r')\n",
    "#Genero documento\n",
    "\n",
    "dataTesting_marca['Price']=pricing_results\n",
    "y_pred = pd.DataFrame(dataTesting_marca, index=dataTesting_marca.index, columns=['Price'])\n",
    "y_pred.to_csv('test_submission.csv', index_label='ID')\n",
    "print(modelo)\n",
    "print('>_> (100% papa)')\n"
   ]
  },
  {
   "cell_type": "markdown",
   "metadata": {},
   "source": [
    "<h3>playground con datos de dataTraining</h3>"
   ]
  },
  {
   "cell_type": "code",
   "execution_count": 105,
   "metadata": {},
   "outputs": [],
   "source": [
    "\n",
    "\n",
    "categorical_cols = ['State','MakeModel']\n",
    "\n",
    "def encoder_marca(categorical_cols,train):\n",
    "    np.random.seed(1)\n",
    "    label_encoders = {}\n",
    "    for col in categorical_cols:\n",
    "        label_encoders[col] = LabelEncoder()\n",
    "        train[col] = label_encoders[col].fit_transform(train[col])\n",
    "\n",
    "def XGBoost_marca():\n",
    "    modelo={\n",
    "        'modelo_1':0,\n",
    "        'modelo_2':0,\n",
    "        'modelo_3':0,\n",
    "        'modelo_4':0\n",
    "    }\n",
    "\n",
    "    #____________ORDENA AGRUPA VARIABLES EN DATASET____________\n",
    "    dataTraining_marca = dataTraining.copy()\n",
    "    dataTraining_marca['MakeModel']=dataTraining_marca['Make']+'_'+dataTraining_marca['Model']\n",
    "    dataTraining_marca=dataTraining_marca.drop(['Make','Model'],axis=1)\n",
    "    encoder_marca(categorical_cols,dataTraining_marca)\n",
    "    pricing_results=[]\n",
    "    resultados={}\n",
    "\n",
    "    dataTesting_marca = dataTraining_marca.sample(n=100000,random_state=42)\n",
    "    dataTraining_marca = dataTraining_marca.drop(dataTesting_marca.index)\n",
    "\n",
    "\n",
    "    for row in dataTesting_marca.iterrows():\n",
    "        similares=dataTraining_marca[\n",
    "            (dataTraining_marca.MakeModel==row[1].MakeModel)&\n",
    "            (dataTraining_marca.State==row[1].State)&\n",
    "            (dataTraining_marca.Year.between(row[1].Year-2,row[1].Year+2))&\n",
    "            (dataTraining_marca.Mileage.between(row[1].Mileage-3000,row[1].Mileage+3000))   \n",
    "        ].sort_values(by='Mileage')\n",
    "        if(similares.shape[0]==0):\n",
    "            similares=dataTraining_marca[\n",
    "                (dataTraining_marca.MakeModel==row[1].MakeModel)&\n",
    "                (dataTraining_marca.Mileage.between(row[1].Mileage,row[1].Mileage+8000))  \n",
    "            ].sort_values(by='Mileage')\n",
    "            modelo_utilizado='modelo_2'\n",
    "        else:\n",
    "            modelo_utilizado='modelo_1'\n",
    "        modelo[modelo_utilizado]+=1\n",
    "\n",
    "\n",
    "    #Modelo\n",
    "        X_similares=similares.drop(['Price'], axis=1)\n",
    "        y_similares=similares[['Price']].values.ravel()\n",
    "\n",
    "        #MODELO XGBOOST\n",
    "        model = XGBRegressor(n_estimators=2000, \n",
    "        max_depth=5, \n",
    "        learning_rate=0.1,\n",
    "        subsample=1,\n",
    "        colsample_bytree=0.5,\n",
    "        seed=1\n",
    "    )\n",
    "        model.fit(X_similares, y_similares)\n",
    "    #Predigo con modelo\n",
    "        pred=model.predict([row[1].drop(['Price'])])\n",
    "        pricing_results.append(np.round(pred[0]).astype(int))\n",
    "        print(f'trabajando: {round((row[0]/100000)*100,2)}%', end='\\r')\n",
    "        print(f'indice {row[0]} Diferencia Cuartiles:{((Q1+Q3)/2)-row[1].Price}, Diferencia de prediccion:{np.round(pred[0]).astype(int)-row[1].Price}, modelo utilizado:{modelo_utilizado}')\n",
    "\n",
    "# XGBoost_marca()\n",
    "\n",
    "\n",
    "#_________EVALUADOR_________\n",
    "\n",
    "\n",
    "\n",
    "\n",
    "# dataTesting_marca['Price_modelo']=pricing_results"
   ]
  },
  {
   "cell_type": "markdown",
   "metadata": {},
   "source": [
    "<h3>Calibrador de playground</h3>"
   ]
  },
  {
   "cell_type": "code",
   "execution_count": 131,
   "metadata": {},
   "outputs": [
    {
     "name": "stdout",
     "output_type": "stream",
     "text": [
      "Price        16999\n",
      "Year          2010\n",
      "Mileage      99603\n",
      "State           47\n",
      "MakeModel      211\n",
      "Name: 20731, dtype: int64\n",
      "Mean: 20987.75\n",
      "Prediccion: 16999\n"
     ]
    },
    {
     "data": {
      "text/plain": [
       "(       Price  Year  Mileage  State  MakeModel\n",
       " 87550  21990  2009    96948     47        211\n",
       " 18838  25995  2010    98350     47        211\n",
       " 12756  18967  2009    98463     47        211\n",
       " 20731  16999  2010    99603     47        211,\n",
       "               Price        Year       Mileage  State  MakeModel\n",
       " count      4.000000     4.00000      4.000000    4.0        4.0\n",
       " mean   20987.750000  2009.50000  98341.000000   47.0      211.0\n",
       " std     3918.784452     0.57735   1087.513678    0.0        0.0\n",
       " min    16999.000000  2009.00000  96948.000000   47.0      211.0\n",
       " 25%    18475.000000  2009.00000  97999.500000   47.0      211.0\n",
       " 50%    20478.500000  2009.50000  98406.500000   47.0      211.0\n",
       " 75%    22991.250000  2010.00000  98748.000000   47.0      211.0\n",
       " max    25995.000000  2010.00000  99603.000000   47.0      211.0)"
      ]
     },
     "execution_count": 131,
     "metadata": {},
     "output_type": "execute_result"
    }
   ],
   "source": [
    "categorical_cols = ['State','MakeModel']\n",
    "\n",
    "def encoder_marca(categorical_cols,train):\n",
    "    np.random.seed(420)\n",
    "    label_encoders = {}\n",
    "    for col in categorical_cols:\n",
    "        label_encoders[col] = LabelEncoder()\n",
    "        train[col] = label_encoders[col].fit_transform(train[col])\n",
    "\n",
    "\n",
    "df_calibrador=dataTraining.copy()\n",
    "df_calibrador['MakeModel']=df_calibrador['Make']+'_'+df_calibrador['Model']\n",
    "df_calibrador=df_calibrador.drop(['Make','Model'],axis=1)\n",
    "encoder_marca(categorical_cols,df_calibrador)\n",
    "sample=df_calibrador.iloc[20731]\n",
    "print(sample)\n",
    "\n",
    "query=df_calibrador[\n",
    "    (df_calibrador['MakeModel']==sample['MakeModel'])&\n",
    "    (df_calibrador['Mileage'].between(sample['Mileage']-3000,sample['Mileage']+3000))&\n",
    "    (df_calibrador['Year'].between(sample['Year']-1,sample['Year']))&\n",
    "    (df_calibrador['State']==sample['State'])\n",
    "].sort_values(by='Mileage')\n",
    "\n",
    "X_similares=query.drop(['Price'], axis=1)\n",
    "y_similares=query[['Price']].values.ravel()\n",
    "\n",
    "\n",
    "model = XGBRegressor(n_estimators=2000, \n",
    "    max_depth=5, \n",
    "    learning_rate=0.1,\n",
    "    subsample=1,\n",
    "    colsample_bytree=0.5,\n",
    "    seed=1\n",
    ")\n",
    "model.fit(X_similares, y_similares)\n",
    "pred=model.predict([sample.drop(['Price'])])\n",
    "\n",
    "print(f'Mean:',query['Price'].mean())\n",
    "print(f'Prediccion:',pred[0].astype(int))\n",
    "query,query.describe()"
   ]
  },
  {
   "cell_type": "markdown",
   "metadata": {},
   "source": [
    "<h3>Encontrando los mejores hiperparametros</h3>"
   ]
  },
  {
   "cell_type": "code",
   "execution_count": null,
   "metadata": {},
   "outputs": [
    {
     "name": "stdout",
     "output_type": "stream",
     "text": [
      "              Price\n",
      "ID                 \n",
      "0      33090.508914\n",
      "1      76303.572981\n",
      "2      59899.545636\n",
      "3      49899.386315\n",
      "4      16701.398033\n",
      "...             ...\n",
      "99995  64422.862300\n",
      "99996  63443.967139\n",
      "99997  55584.005547\n",
      "99998  42458.543350\n",
      "99999  34243.136396\n",
      "\n",
      "[100000 rows x 1 columns]\n"
     ]
    }
   ],
   "source": [
    "# Predicción del conjunto de test - acá se genera un número aleatorio como ejemplo\n",
    "np.random.seed(42)\n",
    "y_pred = pd.DataFrame(np.random.rand(dataTesting.shape[0]) * 75000 + 5000, index=dataTesting.index, columns=['Price'])"
   ]
  },
  {
   "cell_type": "markdown",
   "metadata": {},
   "source": [
    "<h3>Prediccion con XGBoost basado en un todo el modelo</h3>"
   ]
  },
  {
   "cell_type": "code",
   "execution_count": 101,
   "metadata": {},
   "outputs": [
    {
     "ename": "NameError",
     "evalue": "name 'X' is not defined",
     "output_type": "error",
     "traceback": [
      "\u001b[1;31m---------------------------------------------------------------------------\u001b[0m",
      "\u001b[1;31mNameError\u001b[0m                                 Traceback (most recent call last)",
      "Cell \u001b[1;32mIn[101], line 10\u001b[0m\n\u001b[0;32m      1\u001b[0m \u001b[38;5;66;03m# Guardar predicciones en formato exigido en la competencia de kaggle\u001b[39;00m\n\u001b[0;32m      3\u001b[0m clf \u001b[38;5;241m=\u001b[39m XGBRegressor(n_estimators\u001b[38;5;241m=\u001b[39m\u001b[38;5;241m2000\u001b[39m, \n\u001b[0;32m      4\u001b[0m   max_depth\u001b[38;5;241m=\u001b[39m\u001b[38;5;241m5\u001b[39m, \n\u001b[0;32m      5\u001b[0m   learning_rate\u001b[38;5;241m=\u001b[39m\u001b[38;5;241m0.1\u001b[39m,\n\u001b[1;32m   (...)\u001b[0m\n\u001b[0;32m      8\u001b[0m   seed\u001b[38;5;241m=\u001b[39m\u001b[38;5;241m1\u001b[39m\n\u001b[0;32m      9\u001b[0m )\n\u001b[1;32m---> 10\u001b[0m clf\u001b[38;5;241m.\u001b[39mfit(\u001b[43mX\u001b[49m,y)\n\u001b[0;32m     11\u001b[0m pred\u001b[38;5;241m=\u001b[39mclf\u001b[38;5;241m.\u001b[39mpredict(dataTesting_copy)\n\u001b[0;32m     12\u001b[0m valor_final\u001b[38;5;241m=\u001b[39mnp\u001b[38;5;241m.\u001b[39mround(pred)\u001b[38;5;241m.\u001b[39mastype(\u001b[38;5;28mint\u001b[39m)\n",
      "\u001b[1;31mNameError\u001b[0m: name 'X' is not defined"
     ]
    }
   ],
   "source": [
    "# Guardar predicciones en formato exigido en la competencia de kaggle\n",
    "\n",
    "clf = XGBRegressor(n_estimators=2000, \n",
    "  max_depth=5, \n",
    "  learning_rate=0.1,\n",
    "  subsample=1,\n",
    "  colsample_bytree=0.5,\n",
    "  seed=1\n",
    ")\n",
    "clf.fit(X,y)\n",
    "pred=clf.predict(dataTesting_copy)\n",
    "valor_final=np.round(pred).astype(int)\n",
    "y_pred = pd.DataFrame(valor_final, index=dataTesting_copy.index, columns=['Price'])\n",
    "y_pred.to_csv('test_submission.csv', index_label='ID')\n",
    "y_pred.head()\n"
   ]
  }
 ],
 "metadata": {
  "kernelspec": {
   "display_name": "Python 3 (ipykernel)",
   "language": "python",
   "name": "python3"
  },
  "language_info": {
   "codemirror_mode": {
    "name": "ipython",
    "version": 3
   },
   "file_extension": ".py",
   "mimetype": "text/x-python",
   "name": "python",
   "nbconvert_exporter": "python",
   "pygments_lexer": "ipython3",
   "version": "3.11.9"
  }
 },
 "nbformat": 4,
 "nbformat_minor": 4
}
